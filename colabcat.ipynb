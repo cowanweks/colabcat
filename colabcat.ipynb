{
  "cells": [
    {
      "cell_type": "markdown",
      "metadata": {
        "colab_type": "text",
        "id": "view-in-github"
      },
      "source": [
        "<a href=\"https://colab.research.google.com/github/cowanweks/colabcat/blob/master/colabcat.ipynb\" target=\"_parent\"><img src=\"https://colab.research.google.com/assets/colab-badge.svg\" alt=\"Open In Colab\"/></a>"
      ]
    },
    {
      "cell_type": "code",
      "execution_count": null,
      "metadata": {},
      "outputs": [],
      "source": [
        "! wget https://github.com/hashcat/hashcat/releases/download/v6.1.0/hashcat-6.1.0.7z\n",
        "! 7z x hashcat-6.1.0.7z\n",
        "! hashcat-6.1.0/hashcat.bin -b  # Run benchmark"
      ]
    },
    {
      "cell_type": "code",
      "execution_count": null,
      "metadata": {
        "id": "BKcdtozLUe1W"
      },
      "outputs": [],
      "source": [
        "# Check the Hashcat Version to make sure it's installed correctly\n",
        "!hashcat-6.1.0/hashcat.bin --version"
      ]
    },
    {
      "cell_type": "code",
      "execution_count": null,
      "metadata": {
        "id": "UFwpl__HVvJ3"
      },
      "outputs": [],
      "source": [
        "# WPA2 EAPOL Benchmark (change this to check the speed of whichever hash you're cracking)\n",
        "!hashcat-6.1.0/hashcat.bin -w 4 -m 11300 --benchmark"
      ]
    },
    {
      "cell_type": "code",
      "execution_count": 3,
      "metadata": {
        "colab": {
          "base_uri": "https://localhost:8080/"
        },
        "id": "qx7jld_zTB1E",
        "outputId": "608b53ac-9298-43d4-c681-18dcef0cc806"
      },
      "outputs": [
        {
          "name": "stdout",
          "output_type": "stream",
          "text": [
            "Thu Jun 19 13:32:58 2025       \n",
            "+-----------------------------------------------------------------------------------------+\n",
            "| NVIDIA-SMI 550.54.15              Driver Version: 550.54.15      CUDA Version: 12.4     |\n",
            "|-----------------------------------------+------------------------+----------------------+\n",
            "| GPU  Name                 Persistence-M | Bus-Id          Disp.A | Volatile Uncorr. ECC |\n",
            "| Fan  Temp   Perf          Pwr:Usage/Cap |           Memory-Usage | GPU-Util  Compute M. |\n",
            "|                                         |                        |               MIG M. |\n",
            "|=========================================+========================+======================|\n",
            "|   0  Tesla T4                       Off |   00000000:00:04.0 Off |                    0 |\n",
            "| N/A   46C    P8              9W /   70W |       0MiB /  15360MiB |      0%      Default |\n",
            "|                                         |                        |                  N/A |\n",
            "+-----------------------------------------+------------------------+----------------------+\n",
            "                                                                                         \n",
            "+-----------------------------------------------------------------------------------------+\n",
            "| Processes:                                                                              |\n",
            "|  GPU   GI   CI        PID   Type   Process name                              GPU Memory |\n",
            "|        ID   ID                                                               Usage      |\n",
            "|=========================================================================================|\n",
            "|  No running processes found                                                             |\n",
            "+-----------------------------------------------------------------------------------------+\n"
          ]
        }
      ],
      "source": [
        "# Check GPU Specs\n",
        "!nvidia-smi"
      ]
    },
    {
      "cell_type": "code",
      "execution_count": 4,
      "metadata": {
        "colab": {
          "base_uri": "https://localhost:8080/"
        },
        "id": "6FHgYTj3Xb4d",
        "outputId": "7f9f1d05-04a2-4cbf-f87d-ec98d5d9d727"
      },
      "outputs": [
        {
          "name": "stdout",
          "output_type": "stream",
          "text": [
            "Drive already mounted at /content/drive; to attempt to forcibly remount, call drive.mount(\"/content/drive\", force_remount=True).\n",
            "hashes\n"
          ]
        }
      ],
      "source": [
        "# Get hashes to crack\n",
        "# Make a directory called 'dothashcat' in your Google Drive before this\n",
        "# with the 'hashes' subdirectory for storing hashes\n",
        "from google.colab import drive\n",
        "\n",
        "# This will ask you to go to a link and get an authorization code\n",
        "# to let the .hashcat folder get synced to your Google Drive\n",
        "drive.mount('/content/drive')\n",
        "\n",
        "# Make a symbolic link between Google Drive\n",
        "# and the local .hashcat directory\n",
        "!ls /content/drive/My\\ Drive/dothashcat\n",
        "!ln -s /content/drive/My\\ Drive/dothashcat /root/.hashcat"
      ]
    },
    {
      "cell_type": "code",
      "execution_count": null,
      "metadata": {
        "id": "5fmoX1ku_PsU"
      },
      "outputs": [],
      "source": [
        "# Show wordlists\n",
        "!ls /root/.hashcat/wordlists"
      ]
    },
    {
      "cell_type": "code",
      "execution_count": null,
      "metadata": {
        "id": "yIkXZRlEFUIz"
      },
      "outputs": [],
      "source": [
        "# Check that your hashes are accessible to Colab\n",
        "!ls /root/.hashcat/hashes"
      ]
    },
    {
      "cell_type": "code",
      "execution_count": null,
      "metadata": {
        "id": "iLqp5xQCXwiq"
      },
      "outputs": [],
      "source": [
        "# Start pure brute force cracking with a session name\n",
        "# !hashcat-6.1.0/hashcat.bin -m 2500 -a3 --session $SESSION /root/.hashcat/hashes/test.hccapx\n",
        "# !hashcat-6.1.0/hashcat.bin -m 2500 /root/.hashcat/hashes/test.hccapx -a 3 -w 4 --session test-session\n",
        "\n",
        "# Restore the session\n",
        "# !hashcat-6.1.0/hashcat.bin --session $SESSION --restore\n",
        "\n",
        "# Crack with a wordlist\n",
        "!hashcat-6.1.0/hashcat.bin -a 0 -m 11300 -w 3 -S /root/.hashcat/hashes/hashes.txt /root/.hashcat/wordlists/wordlist.txt"
      ]
    },
    {
      "cell_type": "code",
      "execution_count": null,
      "metadata": {
        "id": "HrMTWTx2LUqP"
      },
      "outputs": [],
      "source": [
        "# creating new directory to store cap files\n",
        "!mkdir cap_files\n",
        "# uploading cap\n",
        "from google.colab import files\n",
        "\n",
        "uploaded = files.upload()\n",
        "\n",
        "for f_name in uploaded.keys():\n",
        "  print('User uploaded file \"{name}\" with length {length} bytes'.format(name=f_name, length=len(uploaded[f_name])))\n",
        "\n",
        "!mv {f_name} \"/content/cap_files/{f_name}\""
      ]
    },
    {
      "cell_type": "code",
      "execution_count": null,
      "metadata": {
        "id": "uUrjIEd0ALR-"
      },
      "outputs": [],
      "source": [
        "import glob\n",
        "import subprocess\n",
        "import re\n",
        "from tqdm import tqdm\n",
        "is_cracked = False\n",
        "wordlists = list()\n",
        "for wordlist in glob.glob('/root/wordlists/SecLists/Passwords/Common-Credentials/*'):\n",
        "  wordlists.append(wordlist)\n",
        "for wordlist in glob.glob('/root/wordlists/SecLists/Passwords/Cracked-Hashes/milw0rm-dictionary.txt'):\n",
        "  wordlists.append(wordlist)\n",
        "for wordlist in glob.glob('/root/wordlists/SecLists/Passwords/Default-Credentials/*'):\n",
        "  wordlists.append(wordlist)\n",
        "for wordlist in glob.glob('/root/wordlists/SecLists/Passwords/Honeypot-Captures/*'):\n",
        "  wordlists.append(wordlist)\n",
        "for wordlist in glob.glob('/root/wordlists/SecLists/Passwords/Leaked-Databases/*'):\n",
        "  wordlists.append(wordlist)\n",
        "for wordlist in glob.glob('/root/wordlists/SecLists/Passwords/Malware/*'):\n",
        "  wordlists.append(wordlist)\n",
        "for wordlist in glob.glob('/root/wordlists/SecLists/Passwords/WiFi-WPA/*'):\n",
        "  wordlists.append(wordlist)\n",
        "for wordlist in glob.glob('/root/wordlists/SecLists/Passwords/Software/*'):\n",
        "  wordlists.append(wordlist)\n",
        "for wordlist in glob.glob('/root/wordlists/SecLists/Passwords/*.txt'):\n",
        "  wordlists.append(wordlist)"
      ]
    },
    {
      "cell_type": "code",
      "execution_count": null,
      "metadata": {
        "id": "_4oUnuulDZw-"
      },
      "outputs": [],
      "source": [
        "def check_if_cracked(command):\n",
        "  output = subprocess.check_output([command + \" --show\"], shell=True).decode()\n",
        "  if len(output) == 0:\n",
        "    return False\n",
        "  else:\n",
        "    return True\n",
        "\n"
      ]
    },
    {
      "cell_type": "code",
      "execution_count": null,
      "metadata": {
        "id": "2LWlGdbKCT2c"
      },
      "outputs": [],
      "source": [
        "cap_file = f\"/content/cap_files/{f_name} \"\n",
        "for wordlist in tqdm(wordlists):\n",
        "  command = 'hashcat -m 2500 ' + cap_file + wordlist\n",
        "  subprocess.call([command],shell=True)\n",
        "  if check_if_cracked(command):\n",
        "    is_cracked = True\n",
        "  if is_cracked:\n",
        "    print(\"Password is cracked!!\")\n",
        "    cracked_password = subprocess.check_output([command + \" --show\"], shell=True).decode()\n",
        "    cracked_password = cracked_password.split(':')[-1]\n",
        "    print(f\"Password : {cracked_password}\")\n",
        "    print(f\"wordlist used : {wordlist}\")\n",
        "    break\n",
        "  else:\n",
        "    continue\n",
        "\n",
        "if is_cracked == False:\n",
        "  print(\"Password was not found in SecLists\")\n",
        "else:\n",
        "  pass"
      ]
    }
  ],
  "metadata": {
    "accelerator": "GPU",
    "colab": {
      "gpuType": "T4",
      "include_colab_link": true,
      "name": "colabcat.ipynb",
      "provenance": []
    },
    "kernelspec": {
      "display_name": "Python 3",
      "name": "python3"
    }
  },
  "nbformat": 4,
  "nbformat_minor": 0
}
